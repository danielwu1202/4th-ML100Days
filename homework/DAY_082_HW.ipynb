{
 "cells": [
  {
   "cell_type": "code",
   "execution_count": 1,
   "metadata": {},
   "outputs": [
    {
     "name": "stderr",
     "output_type": "stream",
     "text": [
      "Using TensorFlow backend.\n"
     ]
    }
   ],
   "source": [
    "import os\n",
    "import keras\n",
    "import itertools\n",
    "# Disable GPU\n",
    "os.environ[\"CUDA_VISIBLE_DEVICES\"] = \"\""
   ]
  },
  {
   "cell_type": "code",
   "execution_count": 2,
   "metadata": {},
   "outputs": [],
   "source": [
    "train, test = keras.datasets.cifar10.load_data()"
   ]
  },
  {
   "cell_type": "code",
   "execution_count": 3,
   "metadata": {},
   "outputs": [],
   "source": [
    "## 資料前處理\n",
    "def preproc_x(x, flatten=True):\n",
    "    x = x / 255.\n",
    "    if flatten:\n",
    "        x = x.reshape((len(x), -1))\n",
    "    return x\n",
    "\n",
    "def preproc_y(y, num_classes=10):\n",
    "    if y.shape[-1] == 1:\n",
    "        y = keras.utils.to_categorical(y, num_classes)\n",
    "    return y  "
   ]
  },
  {
   "cell_type": "code",
   "execution_count": 4,
   "metadata": {},
   "outputs": [],
   "source": [
    "x_train, y_train = train\n",
    "x_test, y_test = test\n",
    "\n",
    "# Preproc the inputs\n",
    "x_train = preproc_x(x_train)\n",
    "x_test = preproc_x(x_test)\n",
    "\n",
    "# Preprc the outputs\n",
    "y_train = preproc_y(y_train)\n",
    "y_test = preproc_y(y_test)"
   ]
  },
  {
   "cell_type": "code",
   "execution_count": 5,
   "metadata": {},
   "outputs": [],
   "source": [
    "from keras.layers import Dropout\n",
    "\n",
    "def build_mlp(input_shape, output_units=10, num_neurons=[512, 256, 128], drp_ratio=0.2):\n",
    "    input_layer = keras.layers.Input(input_shape)\n",
    "    \n",
    "    for i, n_units in enumerate(num_neurons):\n",
    "        if i == 0:\n",
    "            x = keras.layers.Dense(units=n_units, \n",
    "                                   activation=\"relu\", \n",
    "                                   name=\"hidden_layer\"+str(i+1))(input_layer)\n",
    "            x = Dropout(drp_ratio)(x)\n",
    "        else:\n",
    "            x = keras.layers.Dense(units=n_units, \n",
    "                                   activation=\"relu\", \n",
    "                                   name=\"hidden_layer\"+str(i+1))(x)\n",
    "            x = Dropout(drp_ratio)(x)\n",
    "    \n",
    "    out = keras.layers.Dense(units=output_units, activation=\"softmax\", name=\"output\")(x)\n",
    "    \n",
    "    model = keras.models.Model(inputs=[input_layer], outputs=[out])\n",
    "    return model"
   ]
  },
  {
   "cell_type": "code",
   "execution_count": 6,
   "metadata": {},
   "outputs": [],
   "source": [
    "## 超參數設定\n",
    "LEARNING_RATE = 1e-3\n",
    "EPOCHS = 50\n",
    "BATCH_SIZE = 256\n",
    "MOMENTUM = 0.95\n",
    "Dropout_EXP = 0.25"
   ]
  },
  {
   "cell_type": "code",
   "execution_count": 9,
   "metadata": {},
   "outputs": [
    {
     "name": "stdout",
     "output_type": "stream",
     "text": [
      "Model: \"model_3\"\n",
      "_________________________________________________________________\n",
      "Layer (type)                 Output Shape              Param #   \n",
      "=================================================================\n",
      "input_3 (InputLayer)         (None, 3072)              0         \n",
      "_________________________________________________________________\n",
      "hidden_layer1 (Dense)        (None, 512)               1573376   \n",
      "_________________________________________________________________\n",
      "dropout_7 (Dropout)          (None, 512)               0         \n",
      "_________________________________________________________________\n",
      "hidden_layer2 (Dense)        (None, 256)               131328    \n",
      "_________________________________________________________________\n",
      "dropout_8 (Dropout)          (None, 256)               0         \n",
      "_________________________________________________________________\n",
      "hidden_layer3 (Dense)        (None, 128)               32896     \n",
      "_________________________________________________________________\n",
      "dropout_9 (Dropout)          (None, 128)               0         \n",
      "_________________________________________________________________\n",
      "output (Dense)               (None, 10)                1290      \n",
      "=================================================================\n",
      "Total params: 1,738,890\n",
      "Trainable params: 1,738,890\n",
      "Non-trainable params: 0\n",
      "_________________________________________________________________\n",
      "Train on 50000 samples, validate on 10000 samples\n",
      "Epoch 1/50\n",
      "50000/50000 [==============================] - 8s 161us/step - loss: 2.0510 - accuracy: 0.2416 - val_loss: 1.8456 - val_accuracy: 0.3313\n",
      "Epoch 2/50\n",
      "50000/50000 [==============================] - 8s 154us/step - loss: 1.8739 - accuracy: 0.3184 - val_loss: 1.7514 - val_accuracy: 0.3686\n",
      "Epoch 3/50\n",
      "50000/50000 [==============================] - 8s 157us/step - loss: 1.8157 - accuracy: 0.3390 - val_loss: 1.7045 - val_accuracy: 0.3878\n",
      "Epoch 4/50\n",
      "50000/50000 [==============================] - 8s 158us/step - loss: 1.7797 - accuracy: 0.3542 - val_loss: 1.7223 - val_accuracy: 0.3979\n",
      "Epoch 5/50\n",
      "50000/50000 [==============================] - 8s 157us/step - loss: 1.7590 - accuracy: 0.3593 - val_loss: 1.6505 - val_accuracy: 0.4179\n",
      "Epoch 6/50\n",
      "50000/50000 [==============================] - 8s 158us/step - loss: 1.7382 - accuracy: 0.3700 - val_loss: 1.6298 - val_accuracy: 0.4262\n",
      "Epoch 7/50\n",
      "50000/50000 [==============================] - 8s 158us/step - loss: 1.7268 - accuracy: 0.3746 - val_loss: 1.6069 - val_accuracy: 0.4271\n",
      "Epoch 8/50\n",
      "50000/50000 [==============================] - 8s 157us/step - loss: 1.7184 - accuracy: 0.3791 - val_loss: 1.6437 - val_accuracy: 0.4192\n",
      "Epoch 9/50\n",
      "50000/50000 [==============================] - 8s 158us/step - loss: 1.7031 - accuracy: 0.3854 - val_loss: 1.6028 - val_accuracy: 0.4361\n",
      "Epoch 10/50\n",
      "50000/50000 [==============================] - 8s 160us/step - loss: 1.6741 - accuracy: 0.3955 - val_loss: 1.6167 - val_accuracy: 0.4304\n",
      "Epoch 11/50\n",
      "50000/50000 [==============================] - 8s 161us/step - loss: 1.6691 - accuracy: 0.3981 - val_loss: 1.5814 - val_accuracy: 0.4377\n",
      "Epoch 12/50\n",
      "50000/50000 [==============================] - 8s 161us/step - loss: 1.6596 - accuracy: 0.4015 - val_loss: 1.5690 - val_accuracy: 0.4444\n",
      "Epoch 13/50\n",
      "50000/50000 [==============================] - 8s 158us/step - loss: 1.6523 - accuracy: 0.4037 - val_loss: 1.5978 - val_accuracy: 0.4326\n",
      "Epoch 14/50\n",
      "50000/50000 [==============================] - 8s 162us/step - loss: 1.6469 - accuracy: 0.4075 - val_loss: 1.5980 - val_accuracy: 0.4341\n",
      "Epoch 15/50\n",
      "50000/50000 [==============================] - 8s 157us/step - loss: 1.6367 - accuracy: 0.4126 - val_loss: 1.5581 - val_accuracy: 0.4501\n",
      "Epoch 16/50\n",
      "50000/50000 [==============================] - 8s 156us/step - loss: 1.6206 - accuracy: 0.4144 - val_loss: 1.5352 - val_accuracy: 0.4654\n",
      "Epoch 17/50\n",
      "50000/50000 [==============================] - 8s 156us/step - loss: 1.6264 - accuracy: 0.4150 - val_loss: 1.5604 - val_accuracy: 0.4578\n",
      "Epoch 18/50\n",
      "50000/50000 [==============================] - 8s 164us/step - loss: 1.6122 - accuracy: 0.4167 - val_loss: 1.5407 - val_accuracy: 0.4531\n",
      "Epoch 19/50\n",
      "50000/50000 [==============================] - 8s 161us/step - loss: 1.6122 - accuracy: 0.4183 - val_loss: 1.5193 - val_accuracy: 0.4686\n",
      "Epoch 20/50\n",
      "50000/50000 [==============================] - 8s 161us/step - loss: 1.6077 - accuracy: 0.4208 - val_loss: 1.5237 - val_accuracy: 0.4621\n",
      "Epoch 21/50\n",
      "50000/50000 [==============================] - 8s 160us/step - loss: 1.5945 - accuracy: 0.4256 - val_loss: 1.5248 - val_accuracy: 0.4654\n",
      "Epoch 22/50\n",
      "50000/50000 [==============================] - 8s 161us/step - loss: 1.6025 - accuracy: 0.4226 - val_loss: 1.5436 - val_accuracy: 0.4561\n",
      "Epoch 23/50\n",
      "50000/50000 [==============================] - 8s 160us/step - loss: 1.5890 - accuracy: 0.4296 - val_loss: 1.5178 - val_accuracy: 0.4630\n",
      "Epoch 24/50\n",
      "50000/50000 [==============================] - 8s 161us/step - loss: 1.5773 - accuracy: 0.4294 - val_loss: 1.5358 - val_accuracy: 0.4653\n",
      "Epoch 25/50\n",
      "50000/50000 [==============================] - 8s 158us/step - loss: 1.5705 - accuracy: 0.4339 - val_loss: 1.5555 - val_accuracy: 0.4454\n",
      "Epoch 26/50\n",
      "50000/50000 [==============================] - 8s 157us/step - loss: 1.5803 - accuracy: 0.4310 - val_loss: 1.5445 - val_accuracy: 0.4574\n",
      "Epoch 27/50\n",
      "50000/50000 [==============================] - 8s 154us/step - loss: 1.5655 - accuracy: 0.4367 - val_loss: 1.5076 - val_accuracy: 0.4736\n",
      "Epoch 28/50\n",
      "50000/50000 [==============================] - 8s 154us/step - loss: 1.5566 - accuracy: 0.4399 - val_loss: 1.5091 - val_accuracy: 0.4664\n",
      "Epoch 29/50\n",
      "50000/50000 [==============================] - 8s 153us/step - loss: 1.5604 - accuracy: 0.4390 - val_loss: 1.5077 - val_accuracy: 0.4652\n",
      "Epoch 30/50\n",
      "50000/50000 [==============================] - 8s 153us/step - loss: 1.5569 - accuracy: 0.4383 - val_loss: 1.4963 - val_accuracy: 0.4744\n",
      "Epoch 31/50\n",
      "50000/50000 [==============================] - 8s 153us/step - loss: 1.5546 - accuracy: 0.4387 - val_loss: 1.4880 - val_accuracy: 0.4706\n",
      "Epoch 32/50\n",
      "50000/50000 [==============================] - 8s 153us/step - loss: 1.5501 - accuracy: 0.4409 - val_loss: 1.5067 - val_accuracy: 0.4624\n",
      "Epoch 33/50\n",
      "50000/50000 [==============================] - 8s 162us/step - loss: 1.5414 - accuracy: 0.4445 - val_loss: 1.4904 - val_accuracy: 0.4704\n",
      "Epoch 34/50\n",
      "50000/50000 [==============================] - 8s 157us/step - loss: 1.5408 - accuracy: 0.4451 - val_loss: 1.4724 - val_accuracy: 0.4844\n",
      "Epoch 35/50\n",
      "50000/50000 [==============================] - 8s 155us/step - loss: 1.5377 - accuracy: 0.4466 - val_loss: 1.4993 - val_accuracy: 0.4636\n",
      "Epoch 36/50\n",
      "50000/50000 [==============================] - 8s 156us/step - loss: 1.5340 - accuracy: 0.4457 - val_loss: 1.5042 - val_accuracy: 0.4751\n",
      "Epoch 37/50\n",
      "50000/50000 [==============================] - 8s 157us/step - loss: 1.5315 - accuracy: 0.4502 - val_loss: 1.4683 - val_accuracy: 0.4821\n",
      "Epoch 38/50\n",
      "50000/50000 [==============================] - 8s 155us/step - loss: 1.5314 - accuracy: 0.4504 - val_loss: 1.4644 - val_accuracy: 0.4834\n",
      "Epoch 39/50\n",
      "50000/50000 [==============================] - 8s 156us/step - loss: 1.5329 - accuracy: 0.4499 - val_loss: 1.4849 - val_accuracy: 0.4759\n",
      "Epoch 40/50\n",
      "50000/50000 [==============================] - 8s 159us/step - loss: 1.5317 - accuracy: 0.4483 - val_loss: 1.4813 - val_accuracy: 0.4755\n",
      "Epoch 41/50\n",
      "50000/50000 [==============================] - 8s 164us/step - loss: 1.5238 - accuracy: 0.4525 - val_loss: 1.4601 - val_accuracy: 0.4805\n",
      "Epoch 42/50\n",
      "50000/50000 [==============================] - 8s 152us/step - loss: 1.5191 - accuracy: 0.4539 - val_loss: 1.4917 - val_accuracy: 0.4720\n",
      "Epoch 43/50\n",
      "50000/50000 [==============================] - 8s 153us/step - loss: 1.5134 - accuracy: 0.4539 - val_loss: 1.4657 - val_accuracy: 0.4843\n",
      "Epoch 44/50\n",
      "50000/50000 [==============================] - 8s 152us/step - loss: 1.5166 - accuracy: 0.4550 - val_loss: 1.4607 - val_accuracy: 0.4816\n",
      "Epoch 45/50\n",
      "50000/50000 [==============================] - 8s 154us/step - loss: 1.5071 - accuracy: 0.4573 - val_loss: 1.4684 - val_accuracy: 0.4823\n",
      "Epoch 46/50\n"
     ]
    },
    {
     "name": "stdout",
     "output_type": "stream",
     "text": [
      "50000/50000 [==============================] - 8s 152us/step - loss: 1.5015 - accuracy: 0.4595 - val_loss: 1.4614 - val_accuracy: 0.4833\n",
      "Epoch 47/50\n",
      "50000/50000 [==============================] - 8s 152us/step - loss: 1.5019 - accuracy: 0.4591 - val_loss: 1.4759 - val_accuracy: 0.4773\n",
      "Epoch 48/50\n",
      "50000/50000 [==============================] - 8s 167us/step - loss: 1.5013 - accuracy: 0.4593 - val_loss: 1.4655 - val_accuracy: 0.4727\n",
      "Epoch 49/50\n",
      "50000/50000 [==============================] - 8s 157us/step - loss: 1.5076 - accuracy: 0.4601 - val_loss: 1.4424 - val_accuracy: 0.4908\n",
      "Epoch 50/50\n",
      "50000/50000 [==============================] - 8s 152us/step - loss: 1.5018 - accuracy: 0.4616 - val_loss: 1.4576 - val_accuracy: 0.4898\n"
     ]
    }
   ],
   "source": [
    "model = build_mlp(input_shape=x_train.shape[1:], drp_ratio=Dropout_EXP)\n",
    "model.summary()\n",
    "optimizer = keras.optimizers.Adam(lr=LEARNING_RATE)\n",
    "model.compile(loss=\"categorical_crossentropy\", metrics=[\"accuracy\"], optimizer=optimizer)\n",
    "\n",
    "model.fit(x_train, y_train, \n",
    "          epochs=EPOCHS, \n",
    "          batch_size=BATCH_SIZE, \n",
    "          validation_data=(x_test, y_test), \n",
    "          shuffle=True)\n",
    "\n",
    "# Collect results\n",
    "train_loss = model.history.history[\"loss\"]\n",
    "valid_loss = model.history.history[\"val_loss\"]\n",
    "train_acc = model.history.history[\"accuracy\"]\n",
    "valid_acc = model.history.history[\"val_accuracy\"]"
   ]
  },
  {
   "cell_type": "code",
   "execution_count": 10,
   "metadata": {},
   "outputs": [
    {
     "data": {
      "image/png": "[encoded data removed]",
      "text/plain": [
       "<Figure size 432x288 with 1 Axes>"
      ]
     },
     "metadata": {
      "needs_background": "light"
     },
     "output_type": "display_data"
    },
    {
     "data": {
      "image/png": "[encoded data removed]",
      "text/plain": [
       "<Figure size 432x288 with 1 Axes>"
      ]
     },
     "metadata": {
      "needs_background": "light"
     },
     "output_type": "display_data"
    }
   ],
   "source": [
    "import matplotlib.pyplot as plt\n",
    "%matplotlib inline\n",
    "\n",
    "plt.plot(range(len(train_loss)), train_loss, label=\"train loss\")\n",
    "plt.plot(range(len(valid_loss)), valid_loss, label=\"valid loss\")\n",
    "plt.legend()\n",
    "plt.title(\"Loss\")\n",
    "plt.show()\n",
    "\n",
    "plt.plot(range(len(train_acc)), train_acc, label=\"train accuracy\")\n",
    "plt.plot(range(len(valid_acc)), valid_acc, label=\"valid accuracy\")\n",
    "plt.legend()\n",
    "plt.title(\"Accuracy\")\n",
    "plt.show()"
   ]
  }
 ],
 "metadata": {
  "kernelspec": {
   "display_name": "Python 3",
   "language": "python",
   "name": "python3"
  },
  "language_info": {
   "codemirror_mode": {
    "name": "ipython",
    "version": 3
   },
   "file_extension": ".py",
   "mimetype": "text/x-python",
   "name": "python",
   "nbconvert_exporter": "python",
   "pygments_lexer": "ipython3",
   "version": "3.7.7"
  }
 },
 "nbformat": 4,
 "nbformat_minor": 4
}
