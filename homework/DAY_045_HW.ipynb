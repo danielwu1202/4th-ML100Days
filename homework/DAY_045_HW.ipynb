{
 "cells": [
  {
   "cell_type": "markdown",
   "metadata": {},
   "source": [
    "本日作業請完整閱讀以下任一文獻即可\n",
    "1. https://www.youtube.com/watch?v=tH9FH1DH5n0 (完整的Ensemble概念by李宏毅教授)\n",
    "2. https://explained.ai/gradient-boosting/index.html (深入了解Gradient-boosting)"
   ]
  }
 ],
 "metadata": {
  "kernelspec": {
   "display_name": "Python 3",
   "language": "python",
   "name": "python3"
  },
  "language_info": {
   "codemirror_mode": {
    "name": "ipython",
    "version": 3
   },
   "file_extension": ".py",
   "mimetype": "text/x-python",
   "name": "python",
   "nbconvert_exporter": "python",
   "pygments_lexer": "ipython3",
   "version": "3.7.7"
  }
 },
 "nbformat": 4,
 "nbformat_minor": 4
}
