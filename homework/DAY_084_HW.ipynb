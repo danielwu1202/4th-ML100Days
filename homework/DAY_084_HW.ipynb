{
 "cells": [
  {
   "cell_type": "code",
   "execution_count": 1,
   "metadata": {},
   "outputs": [
    {
     "name": "stderr",
     "output_type": "stream",
     "text": [
      "Using TensorFlow backend.\n"
     ]
    }
   ],
   "source": [
    "import os\n",
    "import keras\n",
    "import itertools\n",
    "# Disable GPU\n",
    "os.environ[\"CUDA_VISIBLE_DEVICES\"] = \"\""
   ]
  },
  {
   "cell_type": "code",
   "execution_count": 2,
   "metadata": {},
   "outputs": [],
   "source": [
    "train, test = keras.datasets.cifar10.load_data()"
   ]
  },
  {
   "cell_type": "code",
   "execution_count": 3,
   "metadata": {},
   "outputs": [],
   "source": [
    "## 資料前處理\n",
    "def preproc_x(x, flatten=True):\n",
    "    x = x / 255.\n",
    "    if flatten:\n",
    "        x = x.reshape((len(x), -1))\n",
    "    return x\n",
    "\n",
    "def preproc_y(y, num_classes=10):\n",
    "    if y.shape[-1] == 1:\n",
    "        y = keras.utils.to_categorical(y, num_classes)\n",
    "    return y  "
   ]
  },
  {
   "cell_type": "code",
   "execution_count": 4,
   "metadata": {},
   "outputs": [],
   "source": [
    "x_train, y_train = train\n",
    "x_test, y_test = test\n",
    "\n",
    "# Preproc the inputs\n",
    "x_train = preproc_x(x_train)\n",
    "x_test = preproc_x(x_test)\n",
    "\n",
    "# Preprc the outputs\n",
    "y_train = preproc_y(y_train)\n",
    "y_test = preproc_y(y_test)"
   ]
  },
  {
   "cell_type": "code",
   "execution_count": 5,
   "metadata": {},
   "outputs": [],
   "source": [
    "from keras.regularizers import l1\n",
    "from keras.layers import Dropout\n",
    "from keras.layers import BatchNormalization\n",
    "\n",
    "\"\"\"\n",
    "建立神經網路，並加入 L1 或 L2\n",
    "\"\"\"\n",
    "def build_mlp(input_shape, output_units=10, num_neurons=[512, 256, 128], l1_ratio=1e-4, drp_ratio=0.2):\n",
    "    input_layer = keras.layers.Input(input_shape)\n",
    "    \n",
    "    for i, n_units in enumerate(num_neurons):\n",
    "        if i == 0:\n",
    "            x = keras.layers.Dense(units=n_units, \n",
    "                                   activation=\"relu\", \n",
    "                                   name=\"hidden_layer\"+str(i+1), \n",
    "                                   kernel_regularizer=l1(l1_ratio))(input_layer)\n",
    "        else:\n",
    "            x = keras.layers.Dense(units=n_units, \n",
    "                                   activation=\"relu\", \n",
    "                                   name=\"hidden_layer\"+str(i+1),\n",
    "                                   kernel_regularizer=l1(l1_ratio))(x)\n",
    "\n",
    "    x = Dropout(drp_ratio)(x)\n",
    "    x = BatchNormalization()(x)\n",
    "    \n",
    "    out = keras.layers.Dense(units=output_units, activation=\"softmax\", name=\"output\")(x)\n",
    "    \n",
    "    model = keras.models.Model(inputs=[input_layer], outputs=[out])\n",
    "    return model"
   ]
  },
  {
   "cell_type": "code",
   "execution_count": 6,
   "metadata": {},
   "outputs": [],
   "source": [
    "## 超參數設定\n",
    "LEARNING_RATE = 1e-3\n",
    "EPOCHS = 50\n",
    "BATCH_SIZE = 256\n",
    "MOMENTUM = 0.95\n",
    "L1_EXP = 1e-2\n",
    "DROP_RATIO = 0.25\n",
    "BATCH_SIZE = 1024"
   ]
  },
  {
   "cell_type": "code",
   "execution_count": 7,
   "metadata": {},
   "outputs": [
    {
     "name": "stdout",
     "output_type": "stream",
     "text": [
      "Model: \"model_1\"\n",
      "_________________________________________________________________\n",
      "Layer (type)                 Output Shape              Param #   \n",
      "=================================================================\n",
      "input_1 (InputLayer)         (None, 3072)              0         \n",
      "_________________________________________________________________\n",
      "hidden_layer1 (Dense)        (None, 512)               1573376   \n",
      "_________________________________________________________________\n",
      "hidden_layer2 (Dense)        (None, 256)               131328    \n",
      "_________________________________________________________________\n",
      "hidden_layer3 (Dense)        (None, 128)               32896     \n",
      "_________________________________________________________________\n",
      "dropout_1 (Dropout)          (None, 128)               0         \n",
      "_________________________________________________________________\n",
      "batch_normalization_1 (Batch (None, 128)               512       \n",
      "_________________________________________________________________\n",
      "output (Dense)               (None, 10)                1290      \n",
      "=================================================================\n",
      "Total params: 1,739,402\n",
      "Trainable params: 1,739,146\n",
      "Non-trainable params: 256\n",
      "_________________________________________________________________\n",
      "Train on 50000 samples, validate on 10000 samples\n",
      "Epoch 1/50\n",
      "50000/50000 [==============================] - 4s 85us/step - loss: 360.8974 - accuracy: 0.2255 - val_loss: 299.2262 - val_accuracy: 0.2432\n",
      "Epoch 2/50\n",
      "50000/50000 [==============================] - 4s 81us/step - loss: 237.4300 - accuracy: 0.3134 - val_loss: 177.7910 - val_accuracy: 0.2132\n",
      "Epoch 3/50\n",
      "50000/50000 [==============================] - 4s 78us/step - loss: 131.5868 - accuracy: 0.3632 - val_loss: 90.4200 - val_accuracy: 0.1092\n",
      "Epoch 4/50\n",
      "50000/50000 [==============================] - 4s 82us/step - loss: 62.7498 - accuracy: 0.3719 - val_loss: 41.3427 - val_accuracy: 0.1013\n",
      "Epoch 5/50\n",
      "50000/50000 [==============================] - 4s 89us/step - loss: 31.8192 - accuracy: 0.2980 - val_loss: 25.4667 - val_accuracy: 0.1002\n",
      "Epoch 6/50\n",
      "50000/50000 [==============================] - 5s 92us/step - loss: 21.0310 - accuracy: 0.2427 - val_loss: 17.3828 - val_accuracy: 0.1162\n",
      "Epoch 7/50\n",
      "50000/50000 [==============================] - 5s 98us/step - loss: 14.1757 - accuracy: 0.2463 - val_loss: 11.5629 - val_accuracy: 0.1394\n",
      "Epoch 8/50\n",
      "50000/50000 [==============================] - 5s 91us/step - loss: 9.1827 - accuracy: 0.2501 - val_loss: 7.4138 - val_accuracy: 0.1857\n",
      "Epoch 9/50\n",
      "50000/50000 [==============================] - 5s 95us/step - loss: 5.8730 - accuracy: 0.2505 - val_loss: 4.9343 - val_accuracy: 0.2372\n",
      "Epoch 10/50\n",
      "50000/50000 [==============================] - 4s 84us/step - loss: 4.1632 - accuracy: 0.2503 - val_loss: 3.8072 - val_accuracy: 0.2307\n",
      "Epoch 11/50\n",
      "50000/50000 [==============================] - 4s 87us/step - loss: 3.3038 - accuracy: 0.2480 - val_loss: 3.0952 - val_accuracy: 0.2680\n",
      "Epoch 12/50\n",
      "50000/50000 [==============================] - 4s 87us/step - loss: 2.7669 - accuracy: 0.2498 - val_loss: 2.6595 - val_accuracy: 0.2601\n",
      "Epoch 13/50\n",
      "50000/50000 [==============================] - 4s 86us/step - loss: 2.4727 - accuracy: 0.2498 - val_loss: 2.4534 - val_accuracy: 0.2592\n",
      "Epoch 14/50\n",
      "50000/50000 [==============================] - 4s 84us/step - loss: 2.3697 - accuracy: 0.2501 - val_loss: 2.3768 - val_accuracy: 0.2540\n",
      "Epoch 15/50\n",
      "50000/50000 [==============================] - 4s 88us/step - loss: 2.3370 - accuracy: 0.2483 - val_loss: 2.3350 - val_accuracy: 0.2618\n",
      "Epoch 16/50\n",
      "50000/50000 [==============================] - 4s 88us/step - loss: 2.3196 - accuracy: 0.2519 - val_loss: 2.3085 - val_accuracy: 0.2612\n",
      "Epoch 17/50\n",
      "50000/50000 [==============================] - 4s 86us/step - loss: 2.3039 - accuracy: 0.2541 - val_loss: 2.2941 - val_accuracy: 0.2676\n",
      "Epoch 18/50\n",
      "50000/50000 [==============================] - 4s 81us/step - loss: 2.2945 - accuracy: 0.2544 - val_loss: 2.2850 - val_accuracy: 0.2632\n",
      "Epoch 19/50\n",
      "50000/50000 [==============================] - 4s 86us/step - loss: 2.2867 - accuracy: 0.2550 - val_loss: 2.2695 - val_accuracy: 0.2723\n",
      "Epoch 20/50\n",
      "50000/50000 [==============================] - 4s 86us/step - loss: 2.2812 - accuracy: 0.2582 - val_loss: 2.2606 - val_accuracy: 0.2663\n",
      "Epoch 21/50\n",
      "50000/50000 [==============================] - 4s 84us/step - loss: 2.2762 - accuracy: 0.2553 - val_loss: 2.2628 - val_accuracy: 0.2679\n",
      "Epoch 22/50\n",
      "50000/50000 [==============================] - 4s 83us/step - loss: 2.2713 - accuracy: 0.2571 - val_loss: 2.2588 - val_accuracy: 0.2639\n",
      "Epoch 23/50\n",
      "50000/50000 [==============================] - 4s 84us/step - loss: 2.2674 - accuracy: 0.2562 - val_loss: 2.3023 - val_accuracy: 0.2512\n",
      "Epoch 24/50\n",
      "50000/50000 [==============================] - 4s 83us/step - loss: 2.2645 - accuracy: 0.2593 - val_loss: 2.2492 - val_accuracy: 0.2653\n",
      "Epoch 25/50\n",
      "50000/50000 [==============================] - 4s 84us/step - loss: 2.2617 - accuracy: 0.2568 - val_loss: 2.2877 - val_accuracy: 0.2551\n",
      "Epoch 26/50\n",
      "50000/50000 [==============================] - 4s 84us/step - loss: 2.2639 - accuracy: 0.2520 - val_loss: 2.2336 - val_accuracy: 0.2686\n",
      "Epoch 27/50\n",
      "50000/50000 [==============================] - 4s 84us/step - loss: 2.2575 - accuracy: 0.2569 - val_loss: 2.6287 - val_accuracy: 0.1924\n",
      "Epoch 28/50\n",
      "50000/50000 [==============================] - 4s 85us/step - loss: 2.2532 - accuracy: 0.2600 - val_loss: 2.2493 - val_accuracy: 0.2546\n",
      "Epoch 29/50\n",
      "50000/50000 [==============================] - 4s 85us/step - loss: 2.2511 - accuracy: 0.2582 - val_loss: 2.2406 - val_accuracy: 0.2696\n",
      "Epoch 30/50\n",
      "50000/50000 [==============================] - 4s 85us/step - loss: 2.2514 - accuracy: 0.2578 - val_loss: 2.2220 - val_accuracy: 0.2748\n",
      "Epoch 31/50\n",
      "50000/50000 [==============================] - 4s 85us/step - loss: 2.2515 - accuracy: 0.2560 - val_loss: 2.4320 - val_accuracy: 0.2195\n",
      "Epoch 32/50\n",
      "50000/50000 [==============================] - 4s 79us/step - loss: 2.2462 - accuracy: 0.2590 - val_loss: 2.2401 - val_accuracy: 0.2588\n",
      "Epoch 33/50\n",
      "50000/50000 [==============================] - 4s 79us/step - loss: 2.2434 - accuracy: 0.2575 - val_loss: 2.3140 - val_accuracy: 0.2431\n",
      "Epoch 34/50\n",
      "50000/50000 [==============================] - 4s 80us/step - loss: 2.2437 - accuracy: 0.2578 - val_loss: 2.2158 - val_accuracy: 0.2721\n",
      "Epoch 35/50\n",
      "50000/50000 [==============================] - 4s 83us/step - loss: 2.2389 - accuracy: 0.2596 - val_loss: 2.2121 - val_accuracy: 0.2693\n",
      "Epoch 36/50\n",
      "50000/50000 [==============================] - 4s 81us/step - loss: 2.2404 - accuracy: 0.2582 - val_loss: 2.3002 - val_accuracy: 0.2410\n",
      "Epoch 37/50\n",
      "50000/50000 [==============================] - 4s 82us/step - loss: 2.2413 - accuracy: 0.2610 - val_loss: 2.3280 - val_accuracy: 0.2326\n",
      "Epoch 38/50\n",
      "50000/50000 [==============================] - 4s 84us/step - loss: 2.2361 - accuracy: 0.2574 - val_loss: 2.2420 - val_accuracy: 0.2612\n",
      "Epoch 39/50\n",
      "50000/50000 [==============================] - 4s 84us/step - loss: 2.2377 - accuracy: 0.2609 - val_loss: 2.2199 - val_accuracy: 0.2665\n",
      "Epoch 40/50\n",
      "50000/50000 [==============================] - 4s 86us/step - loss: 2.2349 - accuracy: 0.2593 - val_loss: 2.7977 - val_accuracy: 0.1699\n",
      "Epoch 41/50\n",
      "50000/50000 [==============================] - 4s 86us/step - loss: 2.2378 - accuracy: 0.2599 - val_loss: 2.3181 - val_accuracy: 0.2402\n",
      "Epoch 42/50\n",
      "50000/50000 [==============================] - 4s 87us/step - loss: 2.2308 - accuracy: 0.2607 - val_loss: 2.2646 - val_accuracy: 0.2323\n",
      "Epoch 43/50\n",
      "50000/50000 [==============================] - 4s 86us/step - loss: 2.2297 - accuracy: 0.2586 - val_loss: 2.2305 - val_accuracy: 0.2592\n",
      "Epoch 44/50\n",
      "50000/50000 [==============================] - 5s 94us/step - loss: 2.2325 - accuracy: 0.2594 - val_loss: 2.5216 - val_accuracy: 0.1795\n",
      "Epoch 45/50\n",
      "50000/50000 [==============================] - 5s 107us/step - loss: 2.2320 - accuracy: 0.2586 - val_loss: 2.3393 - val_accuracy: 0.2133\n",
      "Epoch 46/50\n",
      "50000/50000 [==============================] - 5s 95us/step - loss: 2.2293 - accuracy: 0.2597 - val_loss: 2.3724 - val_accuracy: 0.1991\n",
      "Epoch 47/50\n"
     ]
    },
    {
     "name": "stdout",
     "output_type": "stream",
     "text": [
      "50000/50000 [==============================] - 4s 88us/step - loss: 2.2310 - accuracy: 0.2587 - val_loss: 2.2330 - val_accuracy: 0.2589\n",
      "Epoch 48/50\n",
      "50000/50000 [==============================] - 4s 84us/step - loss: 2.2307 - accuracy: 0.2590 - val_loss: 2.3469 - val_accuracy: 0.2231\n",
      "Epoch 49/50\n",
      "50000/50000 [==============================] - 4s 88us/step - loss: 2.2317 - accuracy: 0.2591 - val_loss: 2.2195 - val_accuracy: 0.2679\n",
      "Epoch 50/50\n",
      "50000/50000 [==============================] - 4s 86us/step - loss: 2.2261 - accuracy: 0.2599 - val_loss: 2.2846 - val_accuracy: 0.2330\n"
     ]
    }
   ],
   "source": [
    "model = build_mlp(input_shape=x_train.shape[1:], l1_ratio=L1_EXP, drp_ratio=DROP_RATIO)\n",
    "model.summary()\n",
    "optimizer = keras.optimizers.SGD(lr=LEARNING_RATE, nesterov=True, momentum=MOMENTUM)\n",
    "model.compile(loss=\"categorical_crossentropy\", metrics=[\"accuracy\"], optimizer=optimizer)\n",
    "\n",
    "model.fit(x_train, y_train, \n",
    "          epochs=EPOCHS, \n",
    "          batch_size=BATCH_SIZE, \n",
    "          validation_data=(x_test, y_test), \n",
    "          shuffle=True)\n",
    "\n",
    "# Collect results\n",
    "train_loss = model.history.history[\"loss\"]\n",
    "valid_loss = model.history.history[\"val_loss\"]\n",
    "train_acc = model.history.history[\"accuracy\"]\n",
    "valid_acc = model.history.history[\"val_accuracy\"]"
   ]
  },
  {
   "cell_type": "code",
   "execution_count": 8,
   "metadata": {},
   "outputs": [
    {
     "data": {
      "image/png": "[encoded data removed]",
      "text/plain": [
       "<Figure size 432x288 with 1 Axes>"
      ]
     },
     "metadata": {
      "needs_background": "light"
     },
     "output_type": "display_data"
    },
    {
     "data": {
      "image/png": "[encoded data removed]",
      "text/plain": [
       "<Figure size 432x288 with 1 Axes>"
      ]
     },
     "metadata": {
      "needs_background": "light"
     },
     "output_type": "display_data"
    }
   ],
   "source": [
    "import matplotlib.pyplot as plt\n",
    "%matplotlib inline\n",
    "\n",
    "plt.plot(range(len(train_loss)), train_loss, label=\"train loss\")\n",
    "plt.plot(range(len(valid_loss)), valid_loss, label=\"valid loss\")\n",
    "plt.legend()\n",
    "plt.title(\"Loss\")\n",
    "plt.show()\n",
    "\n",
    "plt.plot(range(len(train_acc)), train_acc, label=\"train accuracy\")\n",
    "plt.plot(range(len(valid_acc)), valid_acc, label=\"valid accuracy\")\n",
    "plt.legend()\n",
    "plt.title(\"Accuracy\")\n",
    "plt.show()"
   ]
  }
 ],
 "metadata": {
  "kernelspec": {
   "display_name": "Python 3",
   "language": "python",
   "name": "python3"
  },
  "language_info": {
   "codemirror_mode": {
    "name": "ipython",
    "version": 3
   },
   "file_extension": ".py",
   "mimetype": "text/x-python",
   "name": "python",
   "nbconvert_exporter": "python",
   "pygments_lexer": "ipython3",
   "version": "3.7.7"
  }
 },
 "nbformat": 4,
 "nbformat_minor": 4
}
