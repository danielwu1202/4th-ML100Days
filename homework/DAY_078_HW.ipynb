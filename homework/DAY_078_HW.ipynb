{
 "cells": [
  {
   "cell_type": "code",
   "execution_count": 1,
   "metadata": {},
   "outputs": [
    {
     "name": "stderr",
     "output_type": "stream",
     "text": [
      "Using TensorFlow backend.\n"
     ]
    }
   ],
   "source": [
    "import os\n",
    "import keras\n",
    "\n",
    "# 請嘗試設定 GPU：os.environ\n",
    "os.environ[\"CUDA_VISIBLE_DEVICES\"] = \"0\""
   ]
  },
  {
   "cell_type": "code",
   "execution_count": 2,
   "metadata": {},
   "outputs": [],
   "source": [
    "def preproc_x(x, flatten=True):\n",
    "    x = x / 255.\n",
    "    x = -1 + 2*x\n",
    "    if flatten:\n",
    "        x = x.reshape((len(x), -1))\n",
    "    return x\n",
    "\n",
    "def preproc_y(y, num_classes = 10):\n",
    "    if y.shape[-1] == 1:\n",
    "        y = keras.utils.to_categorical(y, num_classes)\n",
    "    return y"
   ]
  },
  {
   "cell_type": "code",
   "execution_count": 5,
   "metadata": {},
   "outputs": [],
   "source": [
    "train, test = keras.datasets.cifar10.load_data()"
   ]
  },
  {
   "cell_type": "code",
   "execution_count": 6,
   "metadata": {},
   "outputs": [],
   "source": [
    "x_train, y_train = train\n",
    "x_test, y_test = test\n",
    "\n",
    "# Preproc the inputs\n",
    "x_train = preproc_x(x_train)\n",
    "x_test = preproc_x(x_test)\n",
    "\n",
    "# Preprc the outputs\n",
    "y_train = preproc_y(y_train)\n",
    "y_test = preproc_y(y_test)"
   ]
  },
  {
   "cell_type": "code",
   "execution_count": 7,
   "metadata": {},
   "outputs": [
    {
     "name": "stdout",
     "output_type": "stream",
     "text": [
      "Model: \"model_1\"\n",
      "_________________________________________________________________\n",
      "Layer (type)                 Output Shape              Param #   \n",
      "=================================================================\n",
      "input_1 (InputLayer)         (None, 3072)              0         \n",
      "_________________________________________________________________\n",
      "hidden_layer1 (Dense)        (None, 512)               1573376   \n",
      "_________________________________________________________________\n",
      "dense_1 (Dense)              (None, 256)               131328    \n",
      "_________________________________________________________________\n",
      "dense_2 (Dense)              (None, 256)               65792     \n",
      "_________________________________________________________________\n",
      "dense_3 (Dense)              (None, 256)               65792     \n",
      "_________________________________________________________________\n",
      "dense_4 (Dense)              (None, 128)               32896     \n",
      "_________________________________________________________________\n",
      "dense_5 (Dense)              (None, 128)               16512     \n",
      "_________________________________________________________________\n",
      "dense_6 (Dense)              (None, 128)               16512     \n",
      "_________________________________________________________________\n",
      "output (Dense)               (None, 10)                1290      \n",
      "=================================================================\n",
      "Total params: 1,903,498\n",
      "Trainable params: 1,903,498\n",
      "Non-trainable params: 0\n",
      "_________________________________________________________________\n"
     ]
    }
   ],
   "source": [
    "def build_mlp(input_shape, output_units=10, num_neurons=[512, 256, 128]):\n",
    "    input_layer = keras.layers.Input(input_shape)\n",
    "    \n",
    "    for i, n_units in enumerate(num_neurons):\n",
    "        if i == 0:\n",
    "            x = keras.layers.Dense(units=n_units, activation=\"relu\", name=\"hidden_layer\"+str(i+1))(input_layer)\n",
    "        else:\n",
    "            x = keras.layers.Dense(units=n_units, activation=\"relu\")(x)\n",
    "            x = keras.layers.Dense(units=n_units, activation=\"relu\")(x)\n",
    "            x = keras.layers.Dense(units=n_units, activation=\"relu\")(x)\n",
    "    \n",
    "    out = keras.layers.Dense(units=output_units, activation=\"softmax\", name=\"output\")(x)\n",
    "    \n",
    "    model = keras.models.Model(inputs=[input_layer], outputs=[out])\n",
    "    return model \n",
    "\n",
    "model = build_mlp(input_shape=x_train.shape[1:])\n",
    "model.summary()"
   ]
  },
  {
   "cell_type": "code",
   "execution_count": 8,
   "metadata": {},
   "outputs": [],
   "source": [
    "## 超參數設定\n",
    "LEARNING_RATE = 0.001\n",
    "EPOCHS = 20\n",
    "BATCH_SIZE = 256"
   ]
  },
  {
   "cell_type": "code",
   "execution_count": 9,
   "metadata": {},
   "outputs": [],
   "source": [
    "optimizer = keras.optimizers.Adam(lr=LEARNING_RATE)\n",
    "model.compile(loss=\"categorical_crossentropy\", metrics=[\"accuracy\"], optimizer=optimizer)"
   ]
  },
  {
   "cell_type": "code",
   "execution_count": 10,
   "metadata": {},
   "outputs": [
    {
     "name": "stdout",
     "output_type": "stream",
     "text": [
      "Train on 50000 samples, validate on 10000 samples\n",
      "Epoch 1/20\n",
      "50000/50000 [==============================] - 8s 162us/step - loss: 1.7146 - accuracy: 0.3882 - val_loss: 1.5535 - val_accuracy: 0.4491\n",
      "Epoch 2/20\n",
      "50000/50000 [==============================] - 8s 153us/step - loss: 1.4857 - accuracy: 0.4732 - val_loss: 1.4619 - val_accuracy: 0.4840\n",
      "Epoch 3/20\n",
      "50000/50000 [==============================] - 8s 153us/step - loss: 1.3605 - accuracy: 0.5193 - val_loss: 1.4361 - val_accuracy: 0.4999\n",
      "Epoch 4/20\n",
      "50000/50000 [==============================] - 8s 154us/step - loss: 1.2654 - accuracy: 0.5511 - val_loss: 1.3784 - val_accuracy: 0.5174\n",
      "Epoch 5/20\n",
      "50000/50000 [==============================] - 8s 153us/step - loss: 1.1930 - accuracy: 0.5794 - val_loss: 1.3432 - val_accuracy: 0.5298\n",
      "Epoch 6/20\n",
      "50000/50000 [==============================] - 8s 154us/step - loss: 1.1048 - accuracy: 0.6069 - val_loss: 1.3829 - val_accuracy: 0.5223\n",
      "Epoch 7/20\n",
      "50000/50000 [==============================] - 8s 160us/step - loss: 1.0310 - accuracy: 0.6333 - val_loss: 1.3586 - val_accuracy: 0.5347\n",
      "Epoch 8/20\n",
      "50000/50000 [==============================] - 8s 154us/step - loss: 0.9574 - accuracy: 0.6595 - val_loss: 1.3885 - val_accuracy: 0.5339\n",
      "Epoch 9/20\n",
      "50000/50000 [==============================] - 8s 156us/step - loss: 0.8877 - accuracy: 0.6858 - val_loss: 1.4181 - val_accuracy: 0.5347\n",
      "Epoch 10/20\n",
      "50000/50000 [==============================] - 8s 154us/step - loss: 0.8263 - accuracy: 0.7061 - val_loss: 1.4648 - val_accuracy: 0.5306\n",
      "Epoch 11/20\n",
      "50000/50000 [==============================] - 7s 148us/step - loss: 0.7573 - accuracy: 0.7304 - val_loss: 1.5028 - val_accuracy: 0.5339\n",
      "Epoch 12/20\n",
      "50000/50000 [==============================] - 7s 149us/step - loss: 0.7014 - accuracy: 0.7488 - val_loss: 1.5492 - val_accuracy: 0.5327\n",
      "Epoch 13/20\n",
      "50000/50000 [==============================] - 8s 151us/step - loss: 0.6474 - accuracy: 0.7716 - val_loss: 1.5761 - val_accuracy: 0.5402\n",
      "Epoch 14/20\n",
      "50000/50000 [==============================] - 8s 152us/step - loss: 0.5919 - accuracy: 0.7890 - val_loss: 1.7120 - val_accuracy: 0.5272\n",
      "Epoch 15/20\n",
      "50000/50000 [==============================] - 8s 156us/step - loss: 0.5388 - accuracy: 0.8107 - val_loss: 1.8515 - val_accuracy: 0.5361\n",
      "Epoch 16/20\n",
      "50000/50000 [==============================] - 7s 149us/step - loss: 0.4919 - accuracy: 0.8265 - val_loss: 1.8379 - val_accuracy: 0.5399\n",
      "Epoch 17/20\n",
      "50000/50000 [==============================] - 7s 149us/step - loss: 0.4567 - accuracy: 0.8372 - val_loss: 1.8948 - val_accuracy: 0.5299\n",
      "Epoch 18/20\n",
      "50000/50000 [==============================] - 7s 144us/step - loss: 0.4117 - accuracy: 0.8541 - val_loss: 2.0636 - val_accuracy: 0.5311\n",
      "Epoch 19/20\n",
      "50000/50000 [==============================] - 7s 145us/step - loss: 0.3916 - accuracy: 0.8619 - val_loss: 2.0219 - val_accuracy: 0.5276\n",
      "Epoch 20/20\n",
      "50000/50000 [==============================] - 7s 144us/step - loss: 0.3557 - accuracy: 0.8749 - val_loss: 2.0993 - val_accuracy: 0.5271\n"
     ]
    },
    {
     "data": {
      "text/plain": [
       "<keras.callbacks.callbacks.History at 0x21100c73fc8>"
      ]
     },
     "execution_count": 10,
     "metadata": {},
     "output_type": "execute_result"
    }
   ],
   "source": [
    "model.fit(x_train, y_train, \n",
    "          epochs=EPOCHS, \n",
    "          batch_size=BATCH_SIZE, \n",
    "          validation_data=(x_test, y_test), \n",
    "          shuffle=True)"
   ]
  },
  {
   "cell_type": "code",
   "execution_count": 11,
   "metadata": {},
   "outputs": [
    {
     "data": {
      "image/png": "[encoded data removed]",
      "text/plain": [
       "<Figure size 432x288 with 1 Axes>"
      ]
     },
     "metadata": {
      "needs_background": "light"
     },
     "output_type": "display_data"
    },
    {
     "data": {
      "image/png": "[encoded data removed]",
      "text/plain": [
       "<Figure size 432x288 with 1 Axes>"
      ]
     },
     "metadata": {
      "needs_background": "light"
     },
     "output_type": "display_data"
    }
   ],
   "source": [
    "import matplotlib.pyplot as plt\n",
    "\n",
    "\n",
    "train_loss = model.history.history[\"loss\"]\n",
    "valid_loss = model.history.history[\"val_loss\"]\n",
    "\n",
    "train_acc = model.history.history[\"accuracy\"]\n",
    "valid_acc = model.history.history[\"val_accuracy\"]\n",
    "\n",
    "plt.plot(range(len(train_loss)), train_loss, label=\"train loss\")\n",
    "plt.plot(range(len(valid_loss)), valid_loss, label=\"valid loss\")\n",
    "plt.legend()\n",
    "plt.title(\"Loss\")\n",
    "plt.show()\n",
    "\n",
    "plt.plot(range(len(train_acc)), train_acc, label=\"train accuracy\")\n",
    "plt.plot(range(len(valid_acc)), valid_acc, label=\"valid accuracy\")\n",
    "plt.legend()\n",
    "plt.title(\"Accuracy\")\n",
    "plt.show()"
   ]
  }
 ],
 "metadata": {
  "kernelspec": {
   "display_name": "Python 3",
   "language": "python",
   "name": "python3"
  },
  "language_info": {
   "codemirror_mode": {
    "name": "ipython",
    "version": 3
   },
   "file_extension": ".py",
   "mimetype": "text/x-python",
   "name": "python",
   "nbconvert_exporter": "python",
   "pygments_lexer": "ipython3",
   "version": "3.7.7"
  }
 },
 "nbformat": 4,
 "nbformat_minor": 4
}
