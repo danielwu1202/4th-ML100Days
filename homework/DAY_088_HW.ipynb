{
 "cells": [
  {
   "cell_type": "code",
   "execution_count": 1,
   "metadata": {},
   "outputs": [
    {
     "name": "stderr",
     "output_type": "stream",
     "text": [
      "Using TensorFlow backend.\n"
     ]
    }
   ],
   "source": [
    "import os\n",
    "import keras\n",
    "\n",
    "# Disable GPU\n",
    "os.environ[\"CUDA_VISIBLE_DEVICES\"] = \"\""
   ]
  },
  {
   "cell_type": "code",
   "execution_count": 2,
   "metadata": {},
   "outputs": [],
   "source": [
    "train, test = keras.datasets.cifar10.load_data()"
   ]
  },
  {
   "cell_type": "code",
   "execution_count": 3,
   "metadata": {},
   "outputs": [],
   "source": [
    "## 資料前處理\n",
    "def preproc_x(x, flatten=True):\n",
    "    x = x / 255.\n",
    "    if flatten:\n",
    "        x = x.reshape((len(x), -1))\n",
    "    return x\n",
    "\n",
    "def preproc_y(y, num_classes=10):\n",
    "    if y.shape[-1] == 1:\n",
    "        y = keras.utils.to_categorical(y, num_classes)\n",
    "    return y    "
   ]
  },
  {
   "cell_type": "code",
   "execution_count": 4,
   "metadata": {},
   "outputs": [],
   "source": [
    "x_train, y_train = train\n",
    "x_test, y_test = test\n",
    "\n",
    "# Preproc the inputs\n",
    "x_train = preproc_x(x_train)\n",
    "x_test = preproc_x(x_test)\n",
    "\n",
    "# Preprc the outputs\n",
    "y_train = preproc_y(y_train)\n",
    "y_test = preproc_y(y_test)"
   ]
  },
  {
   "cell_type": "code",
   "execution_count": 5,
   "metadata": {},
   "outputs": [],
   "source": [
    "from keras.layers import BatchNormalization\n",
    "\n",
    "\"\"\"\n",
    "建立神經網路，並加入 BN layer\n",
    "\"\"\"\n",
    "def build_mlp(input_shape, output_units=10, num_neurons=[512, 256, 128]):\n",
    "    input_layer = keras.layers.Input(input_shape)\n",
    "    \n",
    "    for i, n_units in enumerate(num_neurons):\n",
    "        if i == 0:\n",
    "            x = keras.layers.Dense(units=n_units, \n",
    "                                   activation=\"relu\", \n",
    "                                   name=\"hidden_layer\"+str(i+1))(input_layer)\n",
    "            x = BatchNormalization()(x)\n",
    "        else:\n",
    "            x = keras.layers.Dense(units=n_units, \n",
    "                                   activation=\"relu\", \n",
    "                                   name=\"hidden_layer\"+str(i+1))(x)\n",
    "            x = BatchNormalization()(x)\n",
    "    \n",
    "    out = keras.layers.Dense(units=output_units, activation=\"softmax\", name=\"output\")(x)\n",
    "    \n",
    "    model = keras.models.Model(inputs=[input_layer], outputs=[out])\n",
    "    return model"
   ]
  },
  {
   "cell_type": "code",
   "execution_count": 6,
   "metadata": {},
   "outputs": [],
   "source": [
    "## 超參數設定\n",
    "LEARNING_RATE = 1e-3\n",
    "EPOCHS = 25\n",
    "BATCH_SIZE = 1024\n",
    "MOMENTUM = 0.95"
   ]
  },
  {
   "cell_type": "code",
   "execution_count": 7,
   "metadata": {},
   "outputs": [],
   "source": [
    "# 載入 Callbacks\n",
    "from tensorflow.python.keras.callbacks import Callback\n",
    "from sklearn.metrics import confusion_matrix\n",
    "\n",
    "\n",
    "# Record_fp_tp\n",
    "class Record_tp_tn(Callback):\n",
    "    def __init__(self, val_data, batch_size=1024):\n",
    "        super().__init__()\n",
    "        self.validation_data = val_data\n",
    "        self.batch_size = batch_size\n",
    "\n",
    "    def on_train_begin(self, epoch, logs={}):\n",
    "        logs = logs or {}\n",
    "        record_items = [\n",
    "            \"val_auc\", \"val_f1sc\", \"val_fp\", \"val_fn\", \"val_tp\", \"val_tn\"\n",
    "        ]\n",
    "        for i in record_items:\n",
    "            if i not in self.params['metrics']:\n",
    "                self.params['metrics'].append(i)\n",
    "\n",
    "    def on_epoch_end(self, epoch, logs={}, thres=0.5):\n",
    "        logs = logs or {}\n",
    "        y_true = self.validation_data[1].argmax(axis=1)\n",
    "        y_pred = self.model.predict(self.validation_data[0])\n",
    "        y_pred = (y_pred[:, 1] >= thres) * 1\n",
    "        cm = confusion_matrix(y_true, y_pred)\n",
    "        logs[\"val_tn\"], logs[\"val_fp\"], logs[\"val_fn\"], logs[\"val_tp\"] = cm[0][\n",
    "            0], cm[0][1], cm[1][0], cm[1][1]\n",
    "\n",
    "\n",
    "rec_tptn = Record_tp_tn((x_test, y_test))"
   ]
  },
  {
   "cell_type": "code",
   "execution_count": 8,
   "metadata": {},
   "outputs": [
    {
     "name": "stdout",
     "output_type": "stream",
     "text": [
      "Model: \"model_1\"\n",
      "_________________________________________________________________\n",
      "Layer (type)                 Output Shape              Param #   \n",
      "=================================================================\n",
      "input_1 (InputLayer)         (None, 3072)              0         \n",
      "_________________________________________________________________\n",
      "hidden_layer1 (Dense)        (None, 512)               1573376   \n",
      "_________________________________________________________________\n",
      "batch_normalization_1 (Batch (None, 512)               2048      \n",
      "_________________________________________________________________\n",
      "hidden_layer2 (Dense)        (None, 256)               131328    \n",
      "_________________________________________________________________\n",
      "batch_normalization_2 (Batch (None, 256)               1024      \n",
      "_________________________________________________________________\n",
      "hidden_layer3 (Dense)        (None, 128)               32896     \n",
      "_________________________________________________________________\n",
      "batch_normalization_3 (Batch (None, 128)               512       \n",
      "_________________________________________________________________\n",
      "output (Dense)               (None, 10)                1290      \n",
      "=================================================================\n",
      "Total params: 1,742,474\n",
      "Trainable params: 1,740,682\n",
      "Non-trainable params: 1,792\n",
      "_________________________________________________________________\n",
      "Train on 50000 samples, validate on 10000 samples\n",
      "Epoch 1/25\n",
      "50000/50000 [==============================] - 5s 94us/step - loss: 2.2116 - acc: 0.2669 - val_loss: 2.1266 - val_acc: 0.2385\n",
      "Epoch 2/25\n",
      "50000/50000 [==============================] - 5s 96us/step - loss: 1.7407 - acc: 0.3915 - val_loss: 1.9571 - val_acc: 0.2923\n",
      "Epoch 3/25\n",
      "50000/50000 [==============================] - 5s 96us/step - loss: 1.6179 - acc: 0.4325 - val_loss: 1.8354 - val_acc: 0.3604\n",
      "Epoch 4/25\n",
      "50000/50000 [==============================] - 5s 99us/step - loss: 1.5423 - acc: 0.4591 - val_loss: 1.7148 - val_acc: 0.3965\n",
      "Epoch 5/25\n",
      "50000/50000 [==============================] - 5s 97us/step - loss: 1.4884 - acc: 0.4788 - val_loss: 1.6447 - val_acc: 0.4171\n",
      "Epoch 6/25\n",
      "50000/50000 [==============================] - 5s 99us/step - loss: 1.4446 - acc: 0.4942 - val_loss: 1.5963 - val_acc: 0.4320\n",
      "Epoch 7/25\n",
      "50000/50000 [==============================] - 5s 98us/step - loss: 1.4038 - acc: 0.5099 - val_loss: 1.5469 - val_acc: 0.4521\n",
      "Epoch 8/25\n",
      "50000/50000 [==============================] - 5s 98us/step - loss: 1.3710 - acc: 0.5227 - val_loss: 1.5277 - val_acc: 0.4541\n",
      "Epoch 9/25\n",
      "50000/50000 [==============================] - 5s 97us/step - loss: 1.3384 - acc: 0.5331 - val_loss: 1.5115 - val_acc: 0.4617\n",
      "Epoch 10/25\n",
      "50000/50000 [==============================] - 5s 97us/step - loss: 1.3091 - acc: 0.5442 - val_loss: 1.4930 - val_acc: 0.4694\n",
      "Epoch 11/25\n",
      "50000/50000 [==============================] - 5s 97us/step - loss: 1.2800 - acc: 0.5557 - val_loss: 1.4786 - val_acc: 0.4782\n",
      "Epoch 12/25\n",
      "50000/50000 [==============================] - 5s 94us/step - loss: 1.2552 - acc: 0.5647 - val_loss: 1.4783 - val_acc: 0.4760\n",
      "Epoch 13/25\n",
      "50000/50000 [==============================] - 5s 97us/step - loss: 1.2295 - acc: 0.5752 - val_loss: 1.4728 - val_acc: 0.4771\n",
      "Epoch 14/25\n",
      "50000/50000 [==============================] - 5s 98us/step - loss: 1.2038 - acc: 0.5846 - val_loss: 1.4621 - val_acc: 0.4800\n",
      "Epoch 15/25\n",
      "50000/50000 [==============================] - 5s 97us/step - loss: 1.1810 - acc: 0.5936 - val_loss: 1.4591 - val_acc: 0.4842\n",
      "Epoch 16/25\n",
      "50000/50000 [==============================] - 5s 98us/step - loss: 1.1583 - acc: 0.6032 - val_loss: 1.4513 - val_acc: 0.4875\n",
      "Epoch 17/25\n",
      "50000/50000 [==============================] - 5s 98us/step - loss: 1.1347 - acc: 0.6108 - val_loss: 1.4588 - val_acc: 0.4873\n",
      "Epoch 18/25\n",
      "50000/50000 [==============================] - 5s 97us/step - loss: 1.1137 - acc: 0.6197 - val_loss: 1.4482 - val_acc: 0.4872\n",
      "Epoch 19/25\n",
      "50000/50000 [==============================] - 5s 96us/step - loss: 1.0909 - acc: 0.6301 - val_loss: 1.4546 - val_acc: 0.4864\n",
      "Epoch 20/25\n",
      "50000/50000 [==============================] - 5s 98us/step - loss: 1.0690 - acc: 0.6361 - val_loss: 1.4442 - val_acc: 0.4909\n",
      "Epoch 21/25\n",
      "50000/50000 [==============================] - 5s 98us/step - loss: 1.0472 - acc: 0.6453 - val_loss: 1.4510 - val_acc: 0.4893\n",
      "Epoch 22/25\n",
      "50000/50000 [==============================] - 5s 92us/step - loss: 1.0268 - acc: 0.6519 - val_loss: 1.4547 - val_acc: 0.4902\n",
      "Epoch 23/25\n",
      "50000/50000 [==============================] - 5s 91us/step - loss: 1.0076 - acc: 0.6592 - val_loss: 1.4558 - val_acc: 0.4962\n",
      "Epoch 24/25\n",
      "50000/50000 [==============================] - 5s 91us/step - loss: 0.9856 - acc: 0.6687 - val_loss: 1.4535 - val_acc: 0.4912\n",
      "Epoch 25/25\n",
      "50000/50000 [==============================] - 5s 92us/step - loss: 0.9656 - acc: 0.6762 - val_loss: 1.4466 - val_acc: 0.4972\n"
     ]
    }
   ],
   "source": [
    "model = build_mlp(input_shape=x_train.shape[1:])\n",
    "model.summary()\n",
    "optimizer = keras.optimizers.SGD(lr=LEARNING_RATE, nesterov=True, momentum=MOMENTUM)\n",
    "model.compile(loss=\"categorical_crossentropy\", metrics=[\"acc\"], optimizer=optimizer)\n",
    "\n",
    "\"\"\"\n",
    "To do:\n",
    "Fit the model with rec_tptn callback_fn\n",
    "\"\"\"\n",
    "model.fit(x_train, y_train, \n",
    "          epochs=EPOCHS, \n",
    "          batch_size=BATCH_SIZE, \n",
    "          validation_data=(x_test, y_test), \n",
    "          shuffle=True,\n",
    "          callbacks=[rec_tptn]\n",
    "         )\n",
    "\n",
    "\n",
    "# Collect results\n",
    "train_loss = model.history.history[\"loss\"]\n",
    "valid_loss = model.history.history[\"val_loss\"]\n",
    "train_acc = model.history.history[\"acc\"]\n",
    "valid_acc = model.history.history[\"val_acc\"]\n",
    "\n",
    "\"\"\"\n",
    "To do:\n",
    "Collect tp/tn from model history\n",
    "\"\"\"\n",
    "valid_tp = model.history.history['val_tp']\n",
    "valid_tn = model.history.history['val_tn']"
   ]
  },
  {
   "cell_type": "code",
   "execution_count": 9,
   "metadata": {},
   "outputs": [
    {
     "data": {
      "image/png": "[encoded data removed]",
      "text/plain": [
       "<Figure size 432x288 with 1 Axes>"
      ]
     },
     "metadata": {
      "needs_background": "light"
     },
     "output_type": "display_data"
    },
    {
     "data": {
      "image/png": "[encoded data removed]",
      "text/plain": [
       "<Figure size 432x288 with 1 Axes>"
      ]
     },
     "metadata": {
      "needs_background": "light"
     },
     "output_type": "display_data"
    },
    {
     "data": {
      "image/png": "[encoded data removed]",
      "text/plain": [
       "<Figure size 432x288 with 1 Axes>"
      ]
     },
     "metadata": {
      "needs_background": "light"
     },
     "output_type": "display_data"
    }
   ],
   "source": [
    "import matplotlib.pyplot as plt\n",
    "%matplotlib inline\n",
    "\n",
    "plt.plot(range(len(train_loss)), train_loss, label=\"train loss\")\n",
    "plt.plot(range(len(valid_loss)), valid_loss, label=\"valid loss\")\n",
    "plt.legend()\n",
    "plt.title(\"Loss\")\n",
    "plt.show()\n",
    "\n",
    "plt.plot(range(len(train_acc)), train_acc, label=\"train accuracy\")\n",
    "plt.plot(range(len(valid_acc)), valid_acc, label=\"valid accuracy\")\n",
    "plt.legend()\n",
    "plt.title(\"Accuracy\")\n",
    "plt.show()\n",
    "\n",
    "plt.plot(range(len(valid_tp)), valid_tp, label=\"valid tp\", color=\"navy\")\n",
    "plt.plot(range(len(valid_tn)), valid_tn, label=\"valid tn\", color=\"red\")\n",
    "plt.legend()\n",
    "plt.title(\"True positives and True Negatives\")\n",
    "plt.show()"
   ]
  }
 ],
 "metadata": {
  "kernelspec": {
   "display_name": "Python 3",
   "language": "python",
   "name": "python3"
  },
  "language_info": {
   "codemirror_mode": {
    "name": "ipython",
    "version": 3
   },
   "file_extension": ".py",
   "mimetype": "text/x-python",
   "name": "python",
   "nbconvert_exporter": "python",
   "pygments_lexer": "ipython3",
   "version": "3.7.7"
  }
 },
 "nbformat": 4,
 "nbformat_minor": 4
}
