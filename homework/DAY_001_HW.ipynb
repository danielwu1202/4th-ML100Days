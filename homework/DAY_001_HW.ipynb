{
 "cells": [
  {
   "cell_type": "markdown",
   "metadata": {},
   "source": [
    "# 作業一"
   ]
  },
  {
   "cell_type": "code",
   "execution_count": null,
   "metadata": {},
   "outputs": [],
   "source": [
    "def mean_squred_error(y, yp):\n",
    "    '''\n",
    "    y : 實際值\n",
    "    yp : 預測值\n",
    "    '''\n",
    "    mse = MSE = sum((y-yp) ** 2) / len(y)\n",
    "    return mse"
   ]
  },
  {
   "cell_type": "markdown",
   "metadata": {},
   "source": [
    "# 作業二"
   ]
  },
  {
   "cell_type": "code",
   "execution_count": null,
   "metadata": {},
   "outputs": [],
   "source": [
    "1. 能從這組資料中分析民眾訂房的趨勢，以及每組客人的組成、訂房的時間長短等資料，藉此給飯店業者進行參考\n",
    "2. 從論文\"Hotel booking demand datasets\"下載下來\n",
    "3. csv\n",
    "4. 能從這組資料中分析並預測顧客訂房的情況，藉此讓飯店業者規劃因應的行銷策略"
   ]
  },
  {
   "cell_type": "markdown",
   "metadata": {},
   "source": [
    "# 作業三"
   ]
  },
  {
   "cell_type": "code",
   "execution_count": null,
   "metadata": {},
   "outputs": [],
   "source": [
    "1. 會影響業績的因素有'載客數量'、'距離長短'、'時間'，首先載客數量越多越好，雖然距離越長，該趟金額越多，但相對花費時間也較多，\n",
    "   最後是時間，例如假日結束與平日的載客需求會有明顯差異，所以所需人力也不同\n",
    "2. 所需的資料有在交通較繁忙的地區，例如車站，不同時間的人數分布，以及職業分布，需要靠問卷收集\n",
    "3. CSV\n",
    "4. 根據所收集到的資料，在車站等地點在不同的時間安排不同的人力，並觀察業績是否會上升"
   ]
  }
 ],
 "metadata": {
  "kernelspec": {
   "display_name": "Python 3",
   "language": "python",
   "name": "python3"
  },
  "language_info": {
   "codemirror_mode": {
    "name": "ipython",
    "version": 3
   },
   "file_extension": ".py",
   "mimetype": "text/x-python",
   "name": "python",
   "nbconvert_exporter": "python",
   "pygments_lexer": "ipython3",
   "version": "3.7.3"
  }
 },
 "nbformat": 4,
 "nbformat_minor": 2
}
