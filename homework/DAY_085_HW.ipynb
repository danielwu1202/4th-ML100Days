{
 "cells": [
  {
   "cell_type": "code",
   "execution_count": 1,
   "metadata": {},
   "outputs": [
    {
     "name": "stderr",
     "output_type": "stream",
     "text": [
      "Using TensorFlow backend.\n"
     ]
    }
   ],
   "source": [
    "import os\n",
    "import keras\n",
    "\n",
    "# 本範例不需使用 GPU, 將 GPU 設定為 \"無\"\n",
    "os.environ[\"CUDA_VISIBLE_DEVICES\"] = \"\""
   ]
  },
  {
   "cell_type": "code",
   "execution_count": 2,
   "metadata": {},
   "outputs": [],
   "source": [
    "train, test = keras.datasets.cifar10.load_data()"
   ]
  },
  {
   "cell_type": "code",
   "execution_count": 3,
   "metadata": {},
   "outputs": [],
   "source": [
    "## 資料前處理\n",
    "def preproc_x(x, flatten=True):\n",
    "    x = x / 255.\n",
    "    if flatten:\n",
    "        x = x.reshape((len(x), -1))\n",
    "    return x\n",
    "\n",
    "def preproc_y(y, num_classes=10):\n",
    "    if y.shape[-1] == 1:\n",
    "        y = keras.utils.to_categorical(y, num_classes)\n",
    "    return y    "
   ]
  },
  {
   "cell_type": "code",
   "execution_count": 4,
   "metadata": {},
   "outputs": [],
   "source": [
    "x_train, y_train = train\n",
    "x_test, y_test = test\n",
    "\n",
    "# 資料前處理 - X 標準化\n",
    "x_train = preproc_x(x_train)\n",
    "x_test = preproc_x(x_test)\n",
    "\n",
    "# 資料前處理 -Y 轉成 onehot\n",
    "y_train = preproc_y(y_train)\n",
    "y_test = preproc_y(y_test)"
   ]
  },
  {
   "cell_type": "code",
   "execution_count": 5,
   "metadata": {},
   "outputs": [],
   "source": [
    "from keras.layers import BatchNormalization\n",
    "\n",
    "\"\"\"\n",
    "建立神經網路，並加入 BN layer\n",
    "\"\"\"\n",
    "def build_mlp(input_shape, output_units=10, num_neurons=[512, 256, 128]):\n",
    "    input_layer = keras.layers.Input(input_shape)\n",
    "    \n",
    "    for i, n_units in enumerate(num_neurons):\n",
    "        if i == 0:\n",
    "            x = keras.layers.Dense(units=n_units, \n",
    "                                   activation=\"relu\", \n",
    "                                   name=\"hidden_layer\"+str(i+1))(input_layer)\n",
    "            x = BatchNormalization()(x)\n",
    "        else:\n",
    "            x = keras.layers.Dense(units=n_units, \n",
    "                                   activation=\"relu\", \n",
    "                                   name=\"hidden_layer\"+str(i+1))(x)\n",
    "            x = BatchNormalization()(x)\n",
    "    \n",
    "    out = keras.layers.Dense(units=output_units, activation=\"softmax\", name=\"output\")(x)\n",
    "    \n",
    "    model = keras.models.Model(inputs=[input_layer], outputs=[out])\n",
    "    return model"
   ]
  },
  {
   "cell_type": "code",
   "execution_count": 11,
   "metadata": {},
   "outputs": [],
   "source": [
    "## 超參數設定\n",
    "LEARNING_RATE = 1e-3\n",
    "EPOCHS = 50\n",
    "BATCH_SIZE = 1024\n",
    "MOMENTUM = 0.95"
   ]
  },
  {
   "cell_type": "code",
   "execution_count": 12,
   "metadata": {},
   "outputs": [],
   "source": [
    "\"\"\"\n",
    "# 載入 Callbacks, 並將 monitor 設定為監控 validation loss\n",
    "\"\"\"\n",
    "from keras.callbacks import EarlyStopping\n",
    "\n",
    "earlystop = EarlyStopping(monitor=\"val_accuracy\", \n",
    "                          patience=10, \n",
    "                          verbose=1\n",
    "                          )"
   ]
  },
  {
   "cell_type": "code",
   "execution_count": 13,
   "metadata": {},
   "outputs": [
    {
     "name": "stdout",
     "output_type": "stream",
     "text": [
      "Model: \"model_3\"\n",
      "_________________________________________________________________\n",
      "Layer (type)                 Output Shape              Param #   \n",
      "=================================================================\n",
      "input_3 (InputLayer)         (None, 3072)              0         \n",
      "_________________________________________________________________\n",
      "hidden_layer1 (Dense)        (None, 512)               1573376   \n",
      "_________________________________________________________________\n",
      "batch_normalization_7 (Batch (None, 512)               2048      \n",
      "_________________________________________________________________\n",
      "hidden_layer2 (Dense)        (None, 256)               131328    \n",
      "_________________________________________________________________\n",
      "batch_normalization_8 (Batch (None, 256)               1024      \n",
      "_________________________________________________________________\n",
      "hidden_layer3 (Dense)        (None, 128)               32896     \n",
      "_________________________________________________________________\n",
      "batch_normalization_9 (Batch (None, 128)               512       \n",
      "_________________________________________________________________\n",
      "output (Dense)               (None, 10)                1290      \n",
      "=================================================================\n",
      "Total params: 1,742,474\n",
      "Trainable params: 1,740,682\n",
      "Non-trainable params: 1,792\n",
      "_________________________________________________________________\n",
      "Train on 50000 samples, validate on 10000 samples\n",
      "Epoch 1/50\n",
      "50000/50000 [==============================] - 5s 105us/step - loss: 2.2128 - accuracy: 0.2729 - val_loss: 2.1484 - val_accuracy: 0.2026\n",
      "Epoch 2/50\n",
      "50000/50000 [==============================] - 5s 99us/step - loss: 1.7451 - accuracy: 0.3945 - val_loss: 1.9989 - val_accuracy: 0.2927\n",
      "Epoch 3/50\n",
      "50000/50000 [==============================] - 5s 99us/step - loss: 1.6161 - accuracy: 0.4379 - val_loss: 1.8548 - val_accuracy: 0.3404\n",
      "Epoch 4/50\n",
      "50000/50000 [==============================] - 5s 95us/step - loss: 1.5424 - accuracy: 0.4622 - val_loss: 1.7512 - val_accuracy: 0.3759\n",
      "Epoch 5/50\n",
      "50000/50000 [==============================] - 5s 99us/step - loss: 1.4845 - accuracy: 0.4829 - val_loss: 1.6568 - val_accuracy: 0.4143\n",
      "Epoch 6/50\n",
      "50000/50000 [==============================] - 5s 97us/step - loss: 1.4403 - accuracy: 0.4970 - val_loss: 1.5980 - val_accuracy: 0.4359\n",
      "Epoch 7/50\n",
      "50000/50000 [==============================] - 5s 101us/step - loss: 1.3996 - accuracy: 0.5110 - val_loss: 1.5525 - val_accuracy: 0.4476\n",
      "Epoch 8/50\n",
      "50000/50000 [==============================] - 5s 100us/step - loss: 1.3636 - accuracy: 0.5263 - val_loss: 1.5304 - val_accuracy: 0.4610\n",
      "Epoch 9/50\n",
      "50000/50000 [==============================] - 5s 98us/step - loss: 1.3315 - accuracy: 0.5365 - val_loss: 1.5147 - val_accuracy: 0.4650\n",
      "Epoch 10/50\n",
      "50000/50000 [==============================] - 5s 100us/step - loss: 1.3005 - accuracy: 0.5481 - val_loss: 1.5056 - val_accuracy: 0.4709\n",
      "Epoch 11/50\n",
      "50000/50000 [==============================] - 5s 97us/step - loss: 1.2728 - accuracy: 0.5575 - val_loss: 1.4787 - val_accuracy: 0.4783\n",
      "Epoch 12/50\n",
      "50000/50000 [==============================] - 5s 103us/step - loss: 1.2435 - accuracy: 0.5689 - val_loss: 1.4797 - val_accuracy: 0.4806\n",
      "Epoch 13/50\n",
      "50000/50000 [==============================] - 5s 101us/step - loss: 1.2172 - accuracy: 0.5784 - val_loss: 1.4790 - val_accuracy: 0.4838\n",
      "Epoch 14/50\n",
      "50000/50000 [==============================] - 5s 91us/step - loss: 1.1938 - accuracy: 0.5870 - val_loss: 1.4728 - val_accuracy: 0.4800\n",
      "Epoch 15/50\n",
      "50000/50000 [==============================] - 5s 93us/step - loss: 1.1685 - accuracy: 0.5964 - val_loss: 1.4736 - val_accuracy: 0.4813\n",
      "Epoch 16/50\n",
      "50000/50000 [==============================] - 5s 99us/step - loss: 1.1450 - accuracy: 0.6055 - val_loss: 1.4671 - val_accuracy: 0.4834\n",
      "Epoch 17/50\n",
      "50000/50000 [==============================] - 5s 100us/step - loss: 1.1220 - accuracy: 0.6135 - val_loss: 1.4640 - val_accuracy: 0.4888\n",
      "Epoch 18/50\n",
      "50000/50000 [==============================] - 5s 103us/step - loss: 1.0970 - accuracy: 0.6240 - val_loss: 1.4665 - val_accuracy: 0.4891\n",
      "Epoch 19/50\n",
      "50000/50000 [==============================] - 5s 94us/step - loss: 1.0764 - accuracy: 0.6326 - val_loss: 1.4700 - val_accuracy: 0.4863\n",
      "Epoch 20/50\n",
      "50000/50000 [==============================] - 5s 97us/step - loss: 1.0556 - accuracy: 0.6397 - val_loss: 1.4570 - val_accuracy: 0.4919\n",
      "Epoch 21/50\n",
      "50000/50000 [==============================] - 5s 97us/step - loss: 1.0304 - accuracy: 0.6482 - val_loss: 1.4745 - val_accuracy: 0.4910\n",
      "Epoch 22/50\n",
      "50000/50000 [==============================] - 5s 97us/step - loss: 1.0090 - accuracy: 0.6579 - val_loss: 1.4736 - val_accuracy: 0.4935\n",
      "Epoch 23/50\n",
      "50000/50000 [==============================] - 5s 94us/step - loss: 0.9895 - accuracy: 0.6661 - val_loss: 1.4736 - val_accuracy: 0.4932\n",
      "Epoch 24/50\n",
      "50000/50000 [==============================] - 5s 97us/step - loss: 0.9689 - accuracy: 0.6741 - val_loss: 1.4698 - val_accuracy: 0.4953\n",
      "Epoch 25/50\n",
      "50000/50000 [==============================] - 5s 97us/step - loss: 0.9458 - accuracy: 0.6818 - val_loss: 1.4811 - val_accuracy: 0.4944\n",
      "Epoch 26/50\n",
      "50000/50000 [==============================] - 5s 94us/step - loss: 0.9270 - accuracy: 0.6902 - val_loss: 1.4906 - val_accuracy: 0.4893\n",
      "Epoch 27/50\n",
      "50000/50000 [==============================] - 5s 94us/step - loss: 0.9058 - accuracy: 0.6975 - val_loss: 1.4739 - val_accuracy: 0.4909\n",
      "Epoch 28/50\n",
      "50000/50000 [==============================] - 5s 98us/step - loss: 0.8851 - accuracy: 0.7070 - val_loss: 1.5061 - val_accuracy: 0.4871\n",
      "Epoch 29/50\n",
      "50000/50000 [==============================] - 5s 96us/step - loss: 0.8678 - accuracy: 0.7146 - val_loss: 1.4997 - val_accuracy: 0.4950\n",
      "Epoch 30/50\n",
      "50000/50000 [==============================] - 4s 85us/step - loss: 0.8469 - accuracy: 0.7204 - val_loss: 1.4969 - val_accuracy: 0.4947\n",
      "Epoch 31/50\n",
      "50000/50000 [==============================] - 4s 89us/step - loss: 0.8255 - accuracy: 0.7310 - val_loss: 1.5284 - val_accuracy: 0.4944\n",
      "Epoch 32/50\n",
      "50000/50000 [==============================] - 5s 90us/step - loss: 0.8051 - accuracy: 0.7373 - val_loss: 1.4953 - val_accuracy: 0.4990\n",
      "Epoch 33/50\n",
      "50000/50000 [==============================] - 4s 88us/step - loss: 0.7878 - accuracy: 0.7451 - val_loss: 1.5098 - val_accuracy: 0.4968\n",
      "Epoch 34/50\n",
      "50000/50000 [==============================] - 4s 88us/step - loss: 0.7669 - accuracy: 0.7521 - val_loss: 1.5262 - val_accuracy: 0.4965\n",
      "Epoch 35/50\n",
      "50000/50000 [==============================] - 5s 98us/step - loss: 0.7465 - accuracy: 0.7596 - val_loss: 1.5326 - val_accuracy: 0.4963\n",
      "Epoch 36/50\n",
      "50000/50000 [==============================] - 5s 99us/step - loss: 0.7305 - accuracy: 0.7678 - val_loss: 1.5314 - val_accuracy: 0.4958\n",
      "Epoch 37/50\n",
      "50000/50000 [==============================] - 5s 104us/step - loss: 0.7111 - accuracy: 0.7742 - val_loss: 1.5485 - val_accuracy: 0.4872\n",
      "Epoch 38/50\n",
      "50000/50000 [==============================] - 5s 100us/step - loss: 0.6919 - accuracy: 0.7845 - val_loss: 1.5745 - val_accuracy: 0.4927\n",
      "Epoch 39/50\n",
      "50000/50000 [==============================] - 5s 104us/step - loss: 0.6773 - accuracy: 0.7888 - val_loss: 1.5762 - val_accuracy: 0.4941\n",
      "Epoch 40/50\n",
      "50000/50000 [==============================] - 5s 100us/step - loss: 0.6556 - accuracy: 0.7985 - val_loss: 1.5772 - val_accuracy: 0.4938\n",
      "Epoch 41/50\n",
      "50000/50000 [==============================] - 5s 98us/step - loss: 0.6386 - accuracy: 0.8034 - val_loss: 1.5987 - val_accuracy: 0.4897\n",
      "Epoch 42/50\n",
      "50000/50000 [==============================] - 5s 105us/step - loss: 0.6183 - accuracy: 0.8122 - val_loss: 1.6063 - val_accuracy: 0.4926\n",
      "Epoch 00042: early stopping\n"
     ]
    }
   ],
   "source": [
    "model = build_mlp(input_shape=x_train.shape[1:])\n",
    "model.summary()\n",
    "optimizer = keras.optimizers.SGD(lr=LEARNING_RATE, nesterov=True, momentum=MOMENTUM)\n",
    "model.compile(loss=\"categorical_crossentropy\", metrics=[\"accuracy\"], optimizer=optimizer)\n",
    "\n",
    "model.fit(x_train, y_train, \n",
    "          epochs=EPOCHS, \n",
    "          batch_size=BATCH_SIZE, \n",
    "          validation_data=(x_test, y_test), \n",
    "          shuffle=True,\n",
    "          callbacks=[earlystop]\n",
    "         )\n",
    "\n",
    "# Collect results\n",
    "train_loss = model.history.history[\"loss\"]\n",
    "valid_loss = model.history.history[\"val_loss\"]\n",
    "train_acc = model.history.history[\"accuracy\"]\n",
    "valid_acc = model.history.history[\"val_accuracy\"]"
   ]
  },
  {
   "cell_type": "code",
   "execution_count": 14,
   "metadata": {},
   "outputs": [
    {
     "data": {
      "image/png": "[encoded data removed]",
      "text/plain": [
       "<Figure size 432x288 with 1 Axes>"
      ]
     },
     "metadata": {
      "needs_background": "light"
     },
     "output_type": "display_data"
    },
    {
     "data": {
      "image/png": "[encoded data removed]",
      "text/plain": [
       "<Figure size 432x288 with 1 Axes>"
      ]
     },
     "metadata": {
      "needs_background": "light"
     },
     "output_type": "display_data"
    }
   ],
   "source": [
    "import matplotlib.pyplot as plt\n",
    "%matplotlib inline\n",
    "\n",
    "plt.plot(range(len(train_loss)), train_loss, label=\"train loss\")\n",
    "plt.plot(range(len(valid_loss)), valid_loss, label=\"valid loss\")\n",
    "plt.legend()\n",
    "plt.title(\"Loss\")\n",
    "plt.show()\n",
    "\n",
    "plt.plot(range(len(train_acc)), train_acc, label=\"train accuracy\")\n",
    "plt.plot(range(len(valid_acc)), valid_acc, label=\"valid accuracy\")\n",
    "plt.legend()\n",
    "plt.title(\"Accuracy\")\n",
    "plt.show()"
   ]
  },
  {
   "cell_type": "code",
   "execution_count": 15,
   "metadata": {},
   "outputs": [],
   "source": [
    "earlystop = EarlyStopping(monitor=\"val_accuracy\", \n",
    "                          patience=25, \n",
    "                          verbose=1\n",
    "                          )"
   ]
  },
  {
   "cell_type": "code",
   "execution_count": 16,
   "metadata": {},
   "outputs": [
    {
     "name": "stdout",
     "output_type": "stream",
     "text": [
      "Model: \"model_4\"\n",
      "_________________________________________________________________\n",
      "Layer (type)                 Output Shape              Param #   \n",
      "=================================================================\n",
      "input_4 (InputLayer)         (None, 3072)              0         \n",
      "_________________________________________________________________\n",
      "hidden_layer1 (Dense)        (None, 512)               1573376   \n",
      "_________________________________________________________________\n",
      "batch_normalization_10 (Batc (None, 512)               2048      \n",
      "_________________________________________________________________\n",
      "hidden_layer2 (Dense)        (None, 256)               131328    \n",
      "_________________________________________________________________\n",
      "batch_normalization_11 (Batc (None, 256)               1024      \n",
      "_________________________________________________________________\n",
      "hidden_layer3 (Dense)        (None, 128)               32896     \n",
      "_________________________________________________________________\n",
      "batch_normalization_12 (Batc (None, 128)               512       \n",
      "_________________________________________________________________\n",
      "output (Dense)               (None, 10)                1290      \n",
      "=================================================================\n",
      "Total params: 1,742,474\n",
      "Trainable params: 1,740,682\n",
      "Non-trainable params: 1,792\n",
      "_________________________________________________________________\n",
      "Train on 50000 samples, validate on 10000 samples\n",
      "Epoch 1/50\n",
      "50000/50000 [==============================] - 5s 109us/step - loss: 2.1829 - accuracy: 0.2787 - val_loss: 2.1132 - val_accuracy: 0.1943\n",
      "Epoch 2/50\n",
      "50000/50000 [==============================] - 5s 107us/step - loss: 1.7306 - accuracy: 0.3938 - val_loss: 1.9172 - val_accuracy: 0.3273\n",
      "Epoch 3/50\n",
      "50000/50000 [==============================] - 5s 105us/step - loss: 1.6090 - accuracy: 0.4350 - val_loss: 1.8150 - val_accuracy: 0.3712\n",
      "Epoch 4/50\n",
      "50000/50000 [==============================] - 5s 93us/step - loss: 1.5357 - accuracy: 0.4614 - val_loss: 1.7025 - val_accuracy: 0.4106\n",
      "Epoch 5/50\n",
      "50000/50000 [==============================] - 5s 98us/step - loss: 1.4824 - accuracy: 0.4800 - val_loss: 1.6379 - val_accuracy: 0.4233\n",
      "Epoch 6/50\n",
      "50000/50000 [==============================] - 5s 98us/step - loss: 1.4365 - accuracy: 0.4950 - val_loss: 1.5906 - val_accuracy: 0.4391\n",
      "Epoch 7/50\n",
      "50000/50000 [==============================] - 5s 96us/step - loss: 1.3986 - accuracy: 0.5105 - val_loss: 1.5508 - val_accuracy: 0.4528\n",
      "Epoch 8/50\n",
      "50000/50000 [==============================] - 5s 95us/step - loss: 1.3638 - accuracy: 0.5229 - val_loss: 1.5210 - val_accuracy: 0.4643\n",
      "Epoch 9/50\n",
      "50000/50000 [==============================] - 5s 99us/step - loss: 1.3316 - accuracy: 0.5341 - val_loss: 1.5068 - val_accuracy: 0.4654\n",
      "Epoch 10/50\n",
      "50000/50000 [==============================] - 5s 102us/step - loss: 1.3026 - accuracy: 0.5459 - val_loss: 1.4935 - val_accuracy: 0.4719\n",
      "Epoch 11/50\n",
      "50000/50000 [==============================] - 5s 99us/step - loss: 1.2763 - accuracy: 0.5561 - val_loss: 1.4828 - val_accuracy: 0.4756\n",
      "Epoch 12/50\n",
      "50000/50000 [==============================] - 5s 96us/step - loss: 1.2501 - accuracy: 0.5659 - val_loss: 1.4749 - val_accuracy: 0.4821\n",
      "Epoch 13/50\n",
      "50000/50000 [==============================] - 5s 97us/step - loss: 1.2245 - accuracy: 0.5746 - val_loss: 1.4772 - val_accuracy: 0.4716\n",
      "Epoch 14/50\n",
      "50000/50000 [==============================] - 5s 94us/step - loss: 1.1994 - accuracy: 0.5840 - val_loss: 1.4645 - val_accuracy: 0.4835\n",
      "Epoch 15/50\n",
      "50000/50000 [==============================] - 5s 92us/step - loss: 1.1753 - accuracy: 0.5934 - val_loss: 1.4644 - val_accuracy: 0.4851\n",
      "Epoch 16/50\n",
      "50000/50000 [==============================] - 5s 93us/step - loss: 1.1511 - accuracy: 0.6024 - val_loss: 1.4610 - val_accuracy: 0.4864\n",
      "Epoch 17/50\n",
      "50000/50000 [==============================] - 5s 95us/step - loss: 1.1278 - accuracy: 0.6102 - val_loss: 1.4557 - val_accuracy: 0.4873\n",
      "Epoch 18/50\n",
      "50000/50000 [==============================] - 5s 92us/step - loss: 1.1059 - accuracy: 0.6188 - val_loss: 1.4527 - val_accuracy: 0.4903\n",
      "Epoch 19/50\n",
      "50000/50000 [==============================] - 5s 100us/step - loss: 1.0842 - accuracy: 0.6283 - val_loss: 1.4761 - val_accuracy: 0.4800\n",
      "Epoch 20/50\n",
      "50000/50000 [==============================] - 5s 100us/step - loss: 1.0627 - accuracy: 0.6367 - val_loss: 1.4553 - val_accuracy: 0.4896\n",
      "Epoch 21/50\n",
      "50000/50000 [==============================] - 5s 98us/step - loss: 1.0419 - accuracy: 0.6458 - val_loss: 1.4593 - val_accuracy: 0.4865\n",
      "Epoch 22/50\n",
      "50000/50000 [==============================] - 5s 95us/step - loss: 1.0197 - accuracy: 0.6543 - val_loss: 1.4682 - val_accuracy: 0.4924\n",
      "Epoch 23/50\n",
      "50000/50000 [==============================] - 5s 96us/step - loss: 0.9997 - accuracy: 0.6608 - val_loss: 1.4568 - val_accuracy: 0.4915\n",
      "Epoch 24/50\n",
      "50000/50000 [==============================] - 5s 96us/step - loss: 0.9781 - accuracy: 0.6688 - val_loss: 1.4631 - val_accuracy: 0.4905\n",
      "Epoch 25/50\n",
      "50000/50000 [==============================] - 5s 98us/step - loss: 0.9581 - accuracy: 0.6772 - val_loss: 1.4794 - val_accuracy: 0.4906\n",
      "Epoch 26/50\n",
      "50000/50000 [==============================] - 5s 99us/step - loss: 0.9359 - accuracy: 0.6868 - val_loss: 1.4749 - val_accuracy: 0.4885\n",
      "Epoch 27/50\n",
      "50000/50000 [==============================] - 5s 94us/step - loss: 0.9146 - accuracy: 0.6951 - val_loss: 1.4727 - val_accuracy: 0.4880\n",
      "Epoch 28/50\n",
      "50000/50000 [==============================] - 5s 92us/step - loss: 0.8956 - accuracy: 0.7025 - val_loss: 1.4743 - val_accuracy: 0.4931\n",
      "Epoch 29/50\n",
      "50000/50000 [==============================] - 5s 91us/step - loss: 0.8777 - accuracy: 0.7080 - val_loss: 1.4886 - val_accuracy: 0.4884\n",
      "Epoch 30/50\n",
      "50000/50000 [==============================] - 5s 108us/step - loss: 0.8567 - accuracy: 0.7180 - val_loss: 1.4917 - val_accuracy: 0.4894\n",
      "Epoch 31/50\n",
      "50000/50000 [==============================] - 5s 98us/step - loss: 0.8375 - accuracy: 0.7256 - val_loss: 1.4896 - val_accuracy: 0.4925\n",
      "Epoch 32/50\n",
      "50000/50000 [==============================] - 5s 93us/step - loss: 0.8183 - accuracy: 0.7340 - val_loss: 1.5199 - val_accuracy: 0.4917\n",
      "Epoch 33/50\n",
      "50000/50000 [==============================] - 5s 90us/step - loss: 0.7957 - accuracy: 0.7426 - val_loss: 1.5079 - val_accuracy: 0.4915\n",
      "Epoch 34/50\n",
      "50000/50000 [==============================] - 5s 90us/step - loss: 0.7776 - accuracy: 0.7503 - val_loss: 1.5068 - val_accuracy: 0.4961\n",
      "Epoch 35/50\n",
      "50000/50000 [==============================] - 5s 90us/step - loss: 0.7568 - accuracy: 0.7580 - val_loss: 1.5151 - val_accuracy: 0.4939\n",
      "Epoch 36/50\n",
      "50000/50000 [==============================] - 5s 90us/step - loss: 0.7383 - accuracy: 0.7648 - val_loss: 1.5227 - val_accuracy: 0.4955\n",
      "Epoch 37/50\n",
      "50000/50000 [==============================] - 4s 90us/step - loss: 0.7191 - accuracy: 0.7725 - val_loss: 1.5398 - val_accuracy: 0.4955\n",
      "Epoch 38/50\n",
      "50000/50000 [==============================] - 5s 93us/step - loss: 0.7036 - accuracy: 0.7771 - val_loss: 1.5381 - val_accuracy: 0.4913\n",
      "Epoch 39/50\n",
      "50000/50000 [==============================] - 5s 92us/step - loss: 0.6815 - accuracy: 0.7878 - val_loss: 1.5367 - val_accuracy: 0.4981\n",
      "Epoch 40/50\n",
      "50000/50000 [==============================] - 5s 94us/step - loss: 0.6641 - accuracy: 0.7954 - val_loss: 1.5718 - val_accuracy: 0.4915\n",
      "Epoch 41/50\n",
      "50000/50000 [==============================] - 5s 93us/step - loss: 0.6454 - accuracy: 0.8006 - val_loss: 1.5660 - val_accuracy: 0.4964\n",
      "Epoch 42/50\n",
      "50000/50000 [==============================] - 5s 94us/step - loss: 0.6255 - accuracy: 0.8095 - val_loss: 1.5734 - val_accuracy: 0.4968\n",
      "Epoch 43/50\n",
      "50000/50000 [==============================] - 5s 104us/step - loss: 0.6094 - accuracy: 0.8158 - val_loss: 1.5913 - val_accuracy: 0.4925\n",
      "Epoch 44/50\n",
      "50000/50000 [==============================] - 5s 104us/step - loss: 0.5909 - accuracy: 0.8240 - val_loss: 1.6069 - val_accuracy: 0.4939\n",
      "Epoch 45/50\n",
      "50000/50000 [==============================] - 6s 110us/step - loss: 0.5751 - accuracy: 0.8295 - val_loss: 1.6157 - val_accuracy: 0.4941\n",
      "Epoch 46/50\n"
     ]
    },
    {
     "name": "stdout",
     "output_type": "stream",
     "text": [
      "50000/50000 [==============================] - 5s 91us/step - loss: 0.5541 - accuracy: 0.8389 - val_loss: 1.6359 - val_accuracy: 0.4865\n",
      "Epoch 47/50\n",
      "50000/50000 [==============================] - 4s 90us/step - loss: 0.5392 - accuracy: 0.8448 - val_loss: 1.6205 - val_accuracy: 0.4934\n",
      "Epoch 48/50\n",
      "50000/50000 [==============================] - 5s 92us/step - loss: 0.5222 - accuracy: 0.8509 - val_loss: 1.6614 - val_accuracy: 0.4906\n",
      "Epoch 49/50\n",
      "50000/50000 [==============================] - 5s 90us/step - loss: 0.5057 - accuracy: 0.8568 - val_loss: 1.6785 - val_accuracy: 0.4876\n",
      "Epoch 50/50\n",
      "50000/50000 [==============================] - 5s 92us/step - loss: 0.4894 - accuracy: 0.8646 - val_loss: 1.6907 - val_accuracy: 0.4816\n"
     ]
    }
   ],
   "source": [
    "model = build_mlp(input_shape=x_train.shape[1:])\n",
    "model.summary()\n",
    "optimizer = keras.optimizers.SGD(lr=LEARNING_RATE, nesterov=True, momentum=MOMENTUM)\n",
    "model.compile(loss=\"categorical_crossentropy\", metrics=[\"accuracy\"], optimizer=optimizer)\n",
    "\n",
    "model.fit(x_train, y_train, \n",
    "          epochs=EPOCHS, \n",
    "          batch_size=BATCH_SIZE, \n",
    "          validation_data=(x_test, y_test), \n",
    "          shuffle=True,\n",
    "          callbacks=[earlystop]\n",
    "         )\n",
    "\n",
    "# Collect results\n",
    "train_loss = model.history.history[\"loss\"]\n",
    "valid_loss = model.history.history[\"val_loss\"]\n",
    "train_acc = model.history.history[\"accuracy\"]\n",
    "valid_acc = model.history.history[\"val_accuracy\"]"
   ]
  },
  {
   "cell_type": "code",
   "execution_count": 17,
   "metadata": {},
   "outputs": [
    {
     "data": {
      "image/png": "[encoded data removed]",
      "text/plain": [
       "<Figure size 432x288 with 1 Axes>"
      ]
     },
     "metadata": {
      "needs_background": "light"
     },
     "output_type": "display_data"
    },
    {
     "data": {
      "image/png": "[encoded data removed]",
      "text/plain": [
       "<Figure size 432x288 with 1 Axes>"
      ]
     },
     "metadata": {
      "needs_background": "light"
     },
     "output_type": "display_data"
    }
   ],
   "source": [
    "plt.plot(range(len(train_loss)), train_loss, label=\"train loss\")\n",
    "plt.plot(range(len(valid_loss)), valid_loss, label=\"valid loss\")\n",
    "plt.legend()\n",
    "plt.title(\"Loss\")\n",
    "plt.show()\n",
    "\n",
    "plt.plot(range(len(train_acc)), train_acc, label=\"train accuracy\")\n",
    "plt.plot(range(len(valid_acc)), valid_acc, label=\"valid accuracy\")\n",
    "plt.legend()\n",
    "plt.title(\"Accuracy\")\n",
    "plt.show()"
   ]
  }
 ],
 "metadata": {
  "kernelspec": {
   "display_name": "Python 3",
   "language": "python",
   "name": "python3"
  },
  "language_info": {
   "codemirror_mode": {
    "name": "ipython",
    "version": 3
   },
   "file_extension": ".py",
   "mimetype": "text/x-python",
   "name": "python",
   "nbconvert_exporter": "python",
   "pygments_lexer": "ipython3",
   "version": "3.7.7"
  }
 },
 "nbformat": 4,
 "nbformat_minor": 4
}
